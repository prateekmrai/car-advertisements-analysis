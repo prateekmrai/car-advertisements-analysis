{
 "cells": [
  {
   "cell_type": "markdown",
   "metadata": {},
   "source": [
    "# Title: Car Advertisements Analysis\n",
    "\n",
    "# Introduction:\n",
    "This notebook performs an exploratory data analysis (EDA) on the car advertisement dataset.\n",
    "The dataset includes various features related to car advertisements in the US.\n",
    "We will visualize the data, check for duplicates, handle missing values, and draw some initial conclusions."
   ]
  },
  {
   "cell_type": "code",
   "execution_count": null,
   "metadata": {},
   "outputs": [],
   "source": [
    "import pandas as pd\n",
    "import plotly.express as px\n",
    "\n",
    "# Load the dataset\n",
    "df = pd.read_csv('vehicles_us.csv')\n",
    "\n",
    "# Display the first few rows and the columns\n",
    "df.head(), df.columns"
   ]
  },
  {
   "cell_type": "code",
   "execution_count": null,
   "metadata": {},
   "outputs": [],
   "source": [
    "# Check for duplicates\n",
    "duplicates = df.duplicated().sum()\n",
    "print(f\"Number of duplicate rows: {duplicates}\")"
   ]
  },
  {
   "cell_type": "code",
   "execution_count": null,
   "metadata": {},
   "outputs": [],
   "source": [
    "# Drop duplicates\n",
    "df = df.drop_duplicates()"
   ]
  },
  {
   "cell_type": "code",
   "execution_count": null,
   "metadata": {},
   "outputs": [],
   "source": [
    "# Handle missing values for 'cylinders' column using groupby and median\n",
    "if 'model' in df.columns and 'year' in df.columns:\n",
    "    df['cylinders'] = df.groupby(['model', 'year'])['cylinders'].transform(lambda x: x.fillna(x.median()))\n",
    "else:\n",
    "    print(\"The dataset does not contain the required 'model' or 'year' columns.\")"
   ]
  },
  {
   "cell_type": "code",
   "execution_count": null,
   "metadata": {},
   "outputs": [],
   "source": [
    "# Display the first few rows after handling missing values\n",
    "df.head()"
   ]
  },
  {
   "cell_type": "code",
   "execution_count": null,
   "metadata": {},
   "outputs": [],
   "source": [
    "# Plot 1: Price Distribution\n",
    "fig_hist = px.histogram(df, x='price', title='Price Distribution of Car Advertisements')\n",
    "fig_hist.update_layout(xaxis_title='Price', yaxis_title='Count')\n",
    "fig_hist.show()\n",
    "\n",
    "# Conclusion:\n",
    "# The price distribution of car advertisements shows a right-skewed distribution,\n",
    "# indicating that most cars are priced lower, with fewer cars having very high prices."
   ]
  },
  {
   "cell_type": "code",
   "execution_count": null,
   "metadata": {},
   "outputs": [],
   "source": [
    "# Plot 2: Odometer vs Price\n",
    "fig_scatter = px.scatter(df, x='odometer', y='price', title='Odometer vs Price')\n",
    "fig_scatter.update_layout(xaxis_title='Odometer', yaxis_title='Price')\n",
    "fig_scatter.show()\n",
    "\n",
    "# Conclusion:\n",
    "# There is a negative correlation between odometer reading and price,\n",
    "# suggesting that cars with higher mileage tend to be priced lower."
   ]
  },
  {
   "cell_type": "markdown",
   "metadata": {},
   "source": [
    "# Overall Conclusion:\n",
    "The EDA reveals insights into the distribution of car prices and their relationship with mileage.\n",
    "Further analysis and modeling can be performed to understand other factors influencing car prices."
   ]
  }
 ],
 "metadata": {
  "kernelspec": {
   "display_name": "Python 3",
   "language": "python",
   "name": "python3"
  },
  "language_info": {
   "codemirror_mode": {
    "name": "ipython",
    "version": 3
   },
   "file_extension": ".py",
   "mimetype": "text/x-python",
   "name": "python",
   "nbconvert_exporter": "python",
   "pygments_lexer": "ipython3",
   "version": "3.8.8"
  }
 },
 "nbformat": 4,
 "nbformat_minor": 5
}

