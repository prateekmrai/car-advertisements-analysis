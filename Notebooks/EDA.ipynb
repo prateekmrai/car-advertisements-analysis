{
 "cells": [
  {
   "cell_type": "code",
   "execution_count": null,
   "metadata": {},
   "outputs": [],
   "source": [
    "import pandas as pd\n",
    "import plotly.express as px\n",
    "\n",
    "# Load the dataset\n",
    "df = pd.read_csv('../vehicles_us.csv')\n",
    "\n",
    "# Display the first few rows\n",
    "df.head()\n",
    "\n",
    "# Plot a histogram\n",
    "fig_hist = px.histogram(df, x='price')\n",
    "fig_hist.show()\n",
    "\n",
    "# Plot a scatter plot\n",
    "fig_scatter = px.scatter(df, x='odometer', y='price')\n",
    "fig_scatter.show()\n"
   ]
  },
  {
   "cell_type": "code",
   "execution_count": null,
   "metadata": {},
   "outputs": [],
   "source": []
  }
 ],
 "metadata": {
  "language_info": {
   "name": "python"
  }
 },
 "nbformat": 4,
 "nbformat_minor": 2
}
